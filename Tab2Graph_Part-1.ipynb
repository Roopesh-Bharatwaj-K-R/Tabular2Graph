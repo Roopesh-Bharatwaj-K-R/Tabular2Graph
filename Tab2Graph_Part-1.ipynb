{
 "cells": [
  {
   "cell_type": "markdown",
   "id": "c78f80f6-9424-4c91-8b5a-1def49b333e5",
   "metadata": {},
   "source": [
    "<b>TAB2GRAPH -PYTHON</b>\n",
    "\n",
    "This Code Speaks about the conversion steps to performed for Tabular Data Conversion to Graph Data "
   ]
  },
  {
   "cell_type": "markdown",
   "id": "52798168-265b-4ec1-97cd-9abc3cff5777",
   "metadata": {},
   "source": [
    "<b>Step 1: <b/>\n",
    "\n",
    "Read the CSV file\n",
    "In Python, we can use the Pandas library to read the CSV file."
   ]
  },
  {
   "cell_type": "markdown",
   "id": "d603d7f0-6b96-4d1a-947d-8b8a383769db",
   "metadata": {},
   "source": [
    "<b>Step 2: </b>\n",
    "\n",
    "Understand the data\n",
    "The CSV file has three columns: \"source,\" \"target,\" and \"relationship.\" Each row represents a relationship between two individuals, with the \"source\" column denoting the person initiating the relationship, the \"target\" column denoting the person receiving the relationship, and the \"relationship\" column describing the type of relationship.\n",
    "\n"
   ]
  },
  {
   "cell_type": "code",
   "execution_count": 2,
   "id": "edceddc6-95d8-45d6-abda-0c77a03f1b82",
   "metadata": {},
   "outputs": [
    {
     "data": {
      "text/html": [
       "<div>\n",
       "<style scoped>\n",
       "    .dataframe tbody tr th:only-of-type {\n",
       "        vertical-align: middle;\n",
       "    }\n",
       "\n",
       "    .dataframe tbody tr th {\n",
       "        vertical-align: top;\n",
       "    }\n",
       "\n",
       "    .dataframe thead th {\n",
       "        text-align: right;\n",
       "    }\n",
       "</style>\n",
       "<table border=\"1\" class=\"dataframe\">\n",
       "  <thead>\n",
       "    <tr style=\"text-align: right;\">\n",
       "      <th></th>\n",
       "      <th>Source</th>\n",
       "      <th>Target</th>\n",
       "      <th>relationship</th>\n",
       "    </tr>\n",
       "  </thead>\n",
       "  <tbody>\n",
       "    <tr>\n",
       "      <th>0</th>\n",
       "      <td>Alice</td>\n",
       "      <td>Bob</td>\n",
       "      <td>Friend</td>\n",
       "    </tr>\n",
       "    <tr>\n",
       "      <th>1</th>\n",
       "      <td>Bob</td>\n",
       "      <td>Charlie</td>\n",
       "      <td>Friend</td>\n",
       "    </tr>\n",
       "    <tr>\n",
       "      <th>2</th>\n",
       "      <td>Alice</td>\n",
       "      <td>Charlie</td>\n",
       "      <td>Colleague</td>\n",
       "    </tr>\n",
       "    <tr>\n",
       "      <th>3</th>\n",
       "      <td>Dave</td>\n",
       "      <td>Eve</td>\n",
       "      <td>Friend</td>\n",
       "    </tr>\n",
       "  </tbody>\n",
       "</table>\n",
       "</div>"
      ],
      "text/plain": [
       "  Source   Target relationship\n",
       "0  Alice      Bob       Friend\n",
       "1    Bob  Charlie       Friend\n",
       "2  Alice  Charlie    Colleague\n",
       "3   Dave      Eve       Friend"
      ]
     },
     "execution_count": 2,
     "metadata": {},
     "output_type": "execute_result"
    }
   ],
   "source": [
    "import pandas as pd\n",
    "\n",
    "df = pd.read_csv('Social_Network.csv')\n",
    "df"
   ]
  },
  {
   "cell_type": "markdown",
   "id": "c8033e8a-1374-4b94-aef0-78d05f951b3e",
   "metadata": {},
   "source": [
    "<b>Step 3:</b> \n",
    "\n",
    "Create a graph representation\n",
    "We'll use the adjacency list representation for our graph. It's a dictionary where the keys are nodes, and the values are lists of their neighboring nodes."
   ]
  },
  {
   "cell_type": "markdown",
   "id": "b16c5244-4315-426a-a391-9098193b53c6",
   "metadata": {
    "tags": []
   },
   "source": [
    "<b>Step 4: </b>\n",
    "\n",
    "Initialize an empty graph"
   ]
  },
  {
   "cell_type": "code",
   "execution_count": 3,
   "id": "4c1eec25-3b63-4d1c-a9ae-4993bd0bea04",
   "metadata": {},
   "outputs": [],
   "source": [
    "graph = {}\n"
   ]
  },
  {
   "cell_type": "code",
   "execution_count": 4,
   "id": "9363148d-289c-40e3-a838-23e5559a0621",
   "metadata": {},
   "outputs": [],
   "source": [
    "graph = {}\n"
   ]
  },
  {
   "cell_type": "markdown",
   "id": "4186c559-a6b9-48c3-b64b-694e4eb7a5fc",
   "metadata": {},
   "source": [
    "<b>Step 5: </b>\n",
    "\n",
    "Iterate over the CSV rows\n",
    "We'll iterate over each row in the DataFrame and process the data."
   ]
  },
  {
   "cell_type": "code",
   "execution_count": 5,
   "id": "f22105e3-049a-4173-9984-b5f2b83a69c5",
   "metadata": {},
   "outputs": [],
   "source": [
    "for index, row in df.iterrows():\n",
    "    source = row['Source']\n",
    "    target = row['Target']\n",
    "    relationship = row['relationship']\n"
   ]
  },
  {
   "cell_type": "markdown",
   "id": "8ce7290f-ea5a-4bce-a104-ae2191852d3d",
   "metadata": {},
   "source": [
    "<b>Step 6: </b>\n",
    "\n",
    "Create nodes\n",
    "For each row, we'll check if the source and target nodes already exist in the graph. If not, we'll create them."
   ]
  },
  {
   "cell_type": "code",
   "execution_count": 6,
   "id": "f5094703-5591-4b03-a5fe-03bed5c6fddf",
   "metadata": {},
   "outputs": [],
   "source": [
    "if source not in graph:\n",
    "    graph[source] = []\n",
    "if target not in graph:\n",
    "    graph[target] = []"
   ]
  },
  {
   "cell_type": "markdown",
   "id": "863274f4-e3bc-4ece-b9a7-b69fc1e12727",
   "metadata": {},
   "source": [
    "<b>Step 7: </b>\n",
    "    \n",
    "Create edges\n",
    "We'll add the edges to the graph by appending the target node to the list of neighbors for the source node."
   ]
  },
  {
   "cell_type": "code",
   "execution_count": 7,
   "id": "c528c8e7-0823-4d42-9733-cad687a23b1a",
   "metadata": {},
   "outputs": [],
   "source": [
    "graph[source].append(target)\n"
   ]
  },
  {
   "cell_type": "markdown",
   "id": "d4af18a6-0ab7-45d3-9d32-497854f27e69",
   "metadata": {},
   "source": [
    "<b>Step 8:</b> \n",
    "\n",
    "Repeat steps 6 and 7 until all rows have been processed.\n",
    "\n",
    "<b> Step 9: </b>\n",
    "\n",
    "Perform additional data transformations (optional)\n",
    "In this example, we don't have any additional transformations. But you can modify the code to include any necessary data transformations, such as assigning attributes or weights to nodes or edges.\n"
   ]
  },
  {
   "cell_type": "code",
   "execution_count": 8,
   "id": "84615dc1-c4d6-4b9b-9e40-93eb3f50e519",
   "metadata": {},
   "outputs": [
    {
     "name": "stdout",
     "output_type": "stream",
     "text": [
      "{'Alice': ['Bob', 'Charlie'], 'Bob': ['Charlie'], 'Charlie': [], 'Dave': ['Eve'], 'Eve': []}\n"
     ]
    }
   ],
   "source": [
    "# Complete Code\n",
    "\n",
    "import pandas as pd\n",
    "\n",
    "graph = {}\n",
    "\n",
    "for index, row in df.iterrows():\n",
    "    source = row['Source']\n",
    "    target = row['Target']\n",
    "    relationship = row['relationship']\n",
    "    \n",
    "    if source not in graph:\n",
    "        graph[source] = []\n",
    "    if target not in graph:\n",
    "        graph[target] = []\n",
    "        \n",
    "    graph[source].append(target)\n",
    "    \n",
    "print(graph)"
   ]
  },
  {
   "cell_type": "markdown",
   "id": "99ce94bf-0d82-4ff3-a4e1-4f534c1bd153",
   "metadata": {},
   "source": [
    "<b>Step 10: </b>\n",
    "    \n",
    "Analyze or visualize the graph (optional)\n",
    "Once you have the graph, you can perform various analyses or visualize it using graph analysis libraries like NetworkX or visualize it using tools like Gephi."
   ]
  },
  {
   "cell_type": "markdown",
   "id": "620ece25-9dd3-4b5f-a5c5-0b57028a5107",
   "metadata": {},
   "source": [
    "<b> Visualization </b>"
   ]
  },
  {
   "cell_type": "markdown",
   "id": "b28033b0-9504-4acb-ad3b-51e2b6952239",
   "metadata": {},
   "source": [
    "* Calculation of degree centrality\n",
    "* Calculation of  betweenness centrality\n"
   ]
  },
  {
   "cell_type": "markdown",
   "id": "a7909be6-3277-4ee1-9aa3-ad35d386af11",
   "metadata": {},
   "source": [
    "<b> degree centrality</b>"
   ]
  },
  {
   "cell_type": "markdown",
   "id": "ac8aef75-2a0a-4ddd-91b7-6d17285be425",
   "metadata": {},
   "source": [
    "The nx.degree_centrality() function from the NetworkX library is used to calculate the degree centrality of each node in the graph. Degree centrality measures the importance of a node based on the number of edges it has. It is defined as the number of edges connected to a node divided by the maximum possible edges in a graph.\n",
    "\n",
    "The degree_centrality variable will store a dictionary where each node in the graph is a key, and the corresponding value represents its degree centrality."
   ]
  },
  {
   "cell_type": "markdown",
   "id": "fcec6529-42b9-450a-854b-359d4213823d",
   "metadata": {},
   "source": [
    "<b> betweenness centrality</B>"
   ]
  },
  {
   "cell_type": "markdown",
   "id": "70da9e80-4d1c-49a2-8f9d-3a9ad8e529ae",
   "metadata": {},
   "source": [
    "The nx.betweenness_centrality() function from the NetworkX library is used to calculate the betweenness centrality of each node in the graph. Betweenness centrality measures the extent to which a node lies on the shortest paths between pairs of other nodes. It quantifies the influence a node has over the flow of information through the graph.\n",
    "\n",
    "The betweenness_centrality variable will store a dictionary where each node in the graph is a key, and the corresponding value represents its betweenness centrality.\n",
    "\n",
    "Both degree centrality and betweenness centrality are common measures used in network analysis to understand the importance, influence, or centrality of nodes within a graph."
   ]
  },
  {
   "cell_type": "code",
   "execution_count": 13,
   "id": "9da52eff-1462-4a19-b7de-405d4d6ac610",
   "metadata": {},
   "outputs": [
    {
     "name": "stdout",
     "output_type": "stream",
     "text": [
      "Number of nodes: 5\n",
      "Number of edges: 4\n",
      "Degree centrality: {'Alice': 0.5, 'Bob': 0.5, 'Charlie': 0.5, 'Dave': 0.25, 'Eve': 0.25}\n",
      "Betweenness centrality: {'Alice': 0.0, 'Bob': 0.0, 'Charlie': 0.0, 'Dave': 0.0, 'Eve': 0.0}\n"
     ]
    },
    {
     "data": {
      "image/png": "[encoded data removed]",
      "text/plain": [
       "<Figure size 1440x576 with 1 Axes>"
      ]
     },
     "metadata": {},
     "output_type": "display_data"
    }
   ],
   "source": [
    "# Visualize the graph\n",
    "import networkx as nx\n",
    "import matplotlib.pyplot as plt\n",
    "\n",
    "graph_dict = graph\n",
    "\n",
    "# Create a NetworkX graph from the dictionary\n",
    "graph = nx.Graph(graph_dict)\n",
    "\n",
    "# Analyze the graph\n",
    "print(\"Number of nodes:\", graph.number_of_nodes())\n",
    "print(\"Number of edges:\", graph.number_of_edges())\n",
    "\n",
    "# Calculate degree centrality\n",
    "degree_centrality = nx.degree_centrality(graph)\n",
    "print(\"Degree centrality:\", degree_centrality)\n",
    "\n",
    "# Calculate betweenness centrality\n",
    "betweenness_centrality = nx.betweenness_centrality(graph)\n",
    "print(\"Betweenness centrality:\", betweenness_centrality)\n",
    "\n",
    "# Visualize the graph\n",
    "pos = nx.spring_layout(graph)\n",
    "plt.figure(figsize=(20, 8))  # Set the figure size\n",
    "nx.draw_networkx(graph, pos=pos, with_labels=True, node_color='lightblue', edge_color='gray')\n",
    "\n",
    "# # Add centrality measures as node labels\n",
    "# nx.draw_networkx_labels(graph, pos=pos, labels=degree_centrality, font_color='red')\n",
    "# nx.draw_networkx_labels(graph, pos=pos, labels=betweenness_centrality, font_color='blue')\n",
    "\n",
    "# # Add centrality measures as node labels with adjusted formatting\n",
    "# nx.draw_networkx_labels(graph, pos=pos, labels=degree_centrality, font_color='red', font_size=10, font_weight='bold', verticalalignment='bottom')\n",
    "# nx.draw_networkx_labels(graph, pos=pos, labels=betweenness_centrality, font_color='blue', font_size=10, font_weight='bold', verticalalignment='top')\n",
    "\n",
    "\n",
    "# Increase spacing between labels\n",
    "label_spacing = 0.05\n",
    "pos_labels = {node: (x, y + label_spacing) for node, (x, y) in pos.items()}\n",
    "nx.draw_networkx_labels(graph, pos=pos_labels, labels=degree_centrality, font_color='red', font_size=10, font_weight='bold', verticalalignment='bottom', alpha=0.7)\n",
    "pos_labels = {node: (x, y - label_spacing) for node, (x, y) in pos.items()}\n",
    "nx.draw_networkx_labels(graph, pos=pos_labels, labels=betweenness_centrality, font_color='blue', font_size=10, font_weight='bold', verticalalignment='top', alpha=0.7)\n",
    "\n",
    "\n",
    "# Display the graph\n",
    "plt.show()\n"
   ]
  },
  {
   "cell_type": "code",
   "execution_count": null,
   "id": "2dde00ac-65ec-4d52-a6c0-689fd26d50b4",
   "metadata": {},
   "outputs": [],
   "source": []
  },
  {
   "cell_type": "code",
   "execution_count": null,
   "id": "bfca7343-9df7-4a95-8161-7e8781da5838",
   "metadata": {},
   "outputs": [],
   "source": []
  }
 ],
 "metadata": {
  "kernelspec": {
   "display_name": "default:Python",
   "language": "python",
   "name": "conda-env-default-py"
  },
  "language_info": {
   "codemirror_mode": {
    "name": "ipython",
    "version": 3
   },
   "file_extension": ".py",
   "mimetype": "text/x-python",
   "name": "python",
   "nbconvert_exporter": "python",
   "pygments_lexer": "ipython3",
   "version": "3.9.7"
  }
 },
 "nbformat": 4,
 "nbformat_minor": 5
}
